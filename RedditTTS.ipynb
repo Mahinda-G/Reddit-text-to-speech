{
 "cells": [
  {
   "cell_type": "code",
   "execution_count": null,
   "metadata": {},
   "outputs": [],
   "source": [
    "pip install praw"
   ]
  },
  {
   "cell_type": "code",
   "execution_count": 3,
   "metadata": {},
   "outputs": [
    {
     "name": "stdout",
     "output_type": "stream",
     "text": [
      "Mad_kitty_mk\n"
     ]
    }
   ],
   "source": [
    "import praw\n",
    "\n",
    "# getting the credentials for reddit\n",
    "reddit = praw.Reddit(\n",
    "    client_id=\"Ijxux-1f-FS7o_-Q-yX5EA\",\n",
    "    client_secret=\"JDZkTqGJ3TZIwScH29_cRVlBZzxu-A\",\n",
    "    password=\"projekt_mk\",\n",
    "    user_agent=\"RVM\",\n",
    "    username=\"mad_kitty_mk\",\n",
    ")\n",
    "\n",
    "print(reddit.user.me())"
   ]
  },
  {
   "cell_type": "code",
   "execution_count": 4,
   "metadata": {},
   "outputs": [
    {
     "name": "stdout",
     "output_type": "stream",
     "text": [
      "Title: What does a pokemon say if it’s had too much sex? , ID: 1b1bnc0, Author: Mikestermunch\n",
      "Post: Vulva-sore \n",
      "\n",
      "\n"
     ]
    }
   ],
   "source": [
    "#creating the subreddit var\n",
    "subreddit = reddit.subreddit(\"dadjokes\")\n",
    "\n",
    "def top_post_24hr():\n",
    "  top_posts = subreddit.top(time_filter=\"day\", limit = 1)\n",
    "  results = []  # Create an empty list to store the results\n",
    "\n",
    "#details from the sub that we want to print\n",
    "  for post in top_posts:\n",
    "    post_details = {\n",
    "      \"title\": post.title,\n",
    "      \"post\": post.selftext,\n",
    "      \"post_id\": post.id,\n",
    "      \"author\": str(post.author)\n",
    "    }\n",
    "    results.append(post_details)  # Add the dictionary to the results list\n",
    "\n",
    "  return results\n",
    "\n",
    "top_post_24hr()\n",
    "\n",
    "top_posts = top_post_24hr()\n",
    "for post in top_posts:\n",
    "    print(f\"Title: {post['title']}, ID: {post['post_id']}, Author: {post['author']}\\nPost: {post['post']}\\n\\n\")"
   ]
  },
  {
   "cell_type": "code",
   "execution_count": 6,
   "metadata": {},
   "outputs": [],
   "source": [
    "import requests\n",
    "\n",
    "CHUNK_SIZE = 1024\n",
    "\n",
    "# voiceID changes the voice of narration\n",
    "url = \"https://api.elevenlabs.io/v1/text-to-speech/21m00Tcm4TlvDq8ikWAM\"\n",
    "\n",
    "headers = {\n",
    "  \"Accept\": \"audio/mpeg\",\n",
    "  \"Content-Type\": \"application/json\",\n",
    "  \"xi-api-key\": \"2EiwWnXFnvU5JabPnv8n\"\n",
    "}\n",
    "\n",
    "payload = {\n",
    "    \"model_id\": \"eleven_monolingual_v1\",\n",
    "    \"text\": f\"{post['title']}, {post['post']}\"\n",
    "\n",
    "}\n",
    "headers = {\"Content-Type\": \"application/json\"}\n",
    "\n",
    "response = requests.request(\"POST\", url, json=payload, headers=headers)\n",
    "\n",
    "with open('output.mp3', 'wb') as f:\n",
    "    for chunk in response.iter_content(chunk_size=CHUNK_SIZE):\n",
    "        if chunk:\n",
    "            f.write(chunk)"
   ]
  },
  {
   "cell_type": "code",
   "execution_count": 8,
   "metadata": {},
   "outputs": [],
   "source": [
    "# import pyttsx3\n",
    "\n",
    "#init function to get an engine instance for the speech synthesis\n",
    "# engine = pyttsx3.init()\n",
    "\n",
    "#say method on the engine that passes input text to be spoken\n",
    "# engine.say(post)\n",
    "\n",
    "#run and wait method, prcesses the voice commands\n",
    "# engine.runAndWait()"
   ]
  },
  {
   "cell_type": "code",
   "execution_count": 20,
   "metadata": {},
   "outputs": [],
   "source": [
    "from elevenlabs.client import ElevenLabs\n",
    "\n",
    "client = ElevenLabs(api_key=\"2e5055937d7872fb0365e56f88a552e3\")\n",
    "#client = ElevenLabs(api_key=\"55aba1b353126b04ae4b28c7ad19312e\")"
   ]
  },
  {
   "cell_type": "code",
   "execution_count": 15,
   "metadata": {},
   "outputs": [],
   "source": [
    "from elevenlabs import generate, play\n",
    "\n",
    "audio = generate(\n",
    "  api_key=\"2e5055937d7872fb0365e56f88a552e3\",\n",
    " # text=\"Hello! 你好! Hola! नमस्ते! Bonjour! こんにちは! مرحبا! 안녕하세요! Ciao! Cześć! Привіт! வணக்கம்!\",\n",
    "  text= post,\n",
    "  voice=\"Ethan\",\n",
    "  model=\"eleven_multilingual_v2\"\n",
    ")\n",
    "\n",
    "play(audio)"
   ]
  },
  {
   "cell_type": "code",
   "execution_count": null,
   "metadata": {},
   "outputs": [],
   "source": []
  }
 ],
 "metadata": {
  "kernelspec": {
   "display_name": "Python 3",
   "language": "python",
   "name": "python3"
  },
  "language_info": {
   "codemirror_mode": {
    "name": "ipython",
    "version": 3
   },
   "file_extension": ".py",
   "mimetype": "text/x-python",
   "name": "python",
   "nbconvert_exporter": "python",
   "pygments_lexer": "ipython3",
   "version": "3.12.1"
  }
 },
 "nbformat": 4,
 "nbformat_minor": 2
}
