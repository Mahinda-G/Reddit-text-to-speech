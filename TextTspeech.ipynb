{
 "cells": [
  {
   "cell_type": "code",
   "execution_count": 1,
   "metadata": {},
   "outputs": [
    {
     "name": "stdout",
     "output_type": "stream",
     "text": [
      "Requirement already satisfied: pyttsx3 in c:\\users\\ianfrancis.mahinda\\appdata\\local\\programs\\python\\python312\\lib\\site-packages (2.90)\n",
      "Requirement already satisfied: comtypes in c:\\users\\ianfrancis.mahinda\\appdata\\local\\programs\\python\\python312\\lib\\site-packages (from pyttsx3) (1.3.1)\n",
      "Requirement already satisfied: pypiwin32 in c:\\users\\ianfrancis.mahinda\\appdata\\local\\programs\\python\\python312\\lib\\site-packages (from pyttsx3) (223)\n",
      "Requirement already satisfied: pywin32 in c:\\users\\ianfrancis.mahinda\\appdata\\roaming\\python\\python312\\site-packages (from pyttsx3) (306)\n",
      "Note: you may need to restart the kernel to use updated packages.\n"
     ]
    },
    {
     "name": "stderr",
     "output_type": "stream",
     "text": [
      "\n",
      "[notice] A new release of pip is available: 23.2.1 -> 24.0\n",
      "[notice] To update, run: python.exe -m pip install --upgrade pip\n"
     ]
    }
   ],
   "source": [
    "pip install pyttsx3"
   ]
  },
  {
   "cell_type": "markdown",
   "metadata": {},
   "source": []
  },
  {
   "cell_type": "code",
   "execution_count": 2,
   "metadata": {},
   "outputs": [],
   "source": [
    "import pyttsx3\n",
    "\n",
    "#init function to get an engine instance for the speech synthesis\n",
    "engine = pyttsx3.init()\n",
    "\n",
    "#say method on the engine that passes input text to be spoken\n",
    "engine.say('Hello Francis, you get so many bitches its crazy, ruuh')\n",
    "\n",
    "#run and wait method, prcesses the voice commands\n",
    "engine.runAndWait()"
   ]
  }
 ],
 "metadata": {
  "kernelspec": {
   "display_name": "Python 3",
   "language": "python",
   "name": "python3"
  },
  "language_info": {
   "codemirror_mode": {
    "name": "ipython",
    "version": 3
   },
   "file_extension": ".py",
   "mimetype": "text/x-python",
   "name": "python",
   "nbconvert_exporter": "python",
   "pygments_lexer": "ipython3",
   "version": "3.12.1"
  }
 },
 "nbformat": 4,
 "nbformat_minor": 2
}
